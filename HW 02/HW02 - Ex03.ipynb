{
  "nbformat": 4,
  "nbformat_minor": 0,
  "metadata": {
    "colab": {
      "provenance": []
    },
    "kernelspec": {
      "name": "python3",
      "display_name": "Python 3"
    },
    "language_info": {
      "name": "python"
    }
  },
  "cells": [
    {
      "cell_type": "markdown",
      "source": [
        "**Κατεβάστε το Wine Dataset. Tα δεδομένα αυτά αποτελούν τα αποτελέσματα μιας χημικής ανάλυσης κρασιών από τρεις διαφορετικές καλλιεργητικές ποικιλίες {c1,c2,c3}, και περιλαμβάνουν τιμές για 13 χημικά συστατικά που μετρήθηκαν σε κάθε κρασί. Η πρώτη στήλη του αρχείου των δεδομένων περιλαμβάνει την ετικέτα της ποικιλίας του κάθε κρασιού, και οι επόμενες στήλες τις τιμές των συστατικών που μετρήθηκαν. Στόχος μας είναι να διερευνήσουμε το πρόβλημα της πρόβλεψης της ποικιλίας από τα αποτελέσματα της χημική ανάλυσης.**"
      ],
      "metadata": {
        "id": "qWvfjmcowQy-"
      }
    },
    {
      "cell_type": "markdown",
      "source": [
        "Προκειμένου να μην χρειάζεται κάθε φορά να φορτώνω χειροκίνητα το αρχείο που περιέχει τα δεδομένα, συνδέω το google colab με τον λογαριασμό μου στο google drive μέσω της βιβλιοθήκης google.colab. Με την εντολή mount φορτώνονται τα περιεχόμενα του Drive μου. Έπειτα, προσδιορίζω την διεύθυνση του αρχείου wine.data, το οποίο και διαβάζω με την βιβλιοθήκη numpy, ώστε να το αντιμετωπίζω σαν πίνακα, ο οποίος περιέχει δεδομένα τύπου float.\n",
        "\n",
        "Εάν δεν θέλω να συνδεθώ στο Drive, αλλά να φορτώσω χειροκίνητα το αρχείο wine.data, χρησιμοποιώ την τελευταία εντολή του κελιού."
      ],
      "metadata": {
        "id": "Qbrm_l85wPa6"
      }
    },
    {
      "cell_type": "code",
      "execution_count": 1,
      "metadata": {
        "colab": {
          "base_uri": "https://localhost:8080/"
        },
        "id": "DhAAqwElbxz7",
        "outputId": "1845668f-a5f1-4569-b053-5a4d2092bbd6"
      },
      "outputs": [
        {
          "output_type": "stream",
          "name": "stdout",
          "text": [
            "Mounted at /content/gdrive\n"
          ]
        }
      ],
      "source": [
        "from google.colab import drive\n",
        "drive.mount('/content/gdrive')\n",
        "\n",
        "# Πρέπει να αλλάξει ανάλογα με την θέση του αρχείου Data_ex1 στο Google Drive\n",
        "# Διαφορετικά να βγει από σχόλιο η τελευταία γραμμή του κελιού\n",
        "file_path_winedata = '/content/gdrive/MyDrive/Colab Notebooks/Pattern Recognition/HW 02/wine.data'\n",
        "\n",
        "import numpy as np\n",
        "data = np.loadtxt(file_path_winedata, dtype=float, encoding=None, delimiter=\",\")\n",
        "labels = data[:, 0]\n",
        "\n",
        "del file_path_winedata\n",
        "\n",
        "# Εάν θέλουμε να ανεβάσουμε χειροκίνητα το αρχείο Data_ex1.txt\n",
        "# file = np.loadtxt('wine.data', dtype=float, encoding=None, delimiter=\",\")"
      ]
    },
    {
      "cell_type": "markdown",
      "source": [
        "# **Ερώτημα Α**"
      ],
      "metadata": {
        "id": "nQwrcaZ7qiWK"
      }
    },
    {
      "cell_type": "markdown",
      "source": [
        "**Θεωρείστε το υποσύνολο των δεδομένων που περιέχει τιμές μόνο για τα 5 πρώτα συστατικά και για τα κρασιά από τις ποικιλίες c2 και c3.**"
      ],
      "metadata": {
        "id": "i8HAtnBGlI3x"
      }
    },
    {
      "cell_type": "markdown",
      "source": [
        "Από τα αρχικά μου δεδομένα κρατάω εκείνα που ανήκουν στην κλάση c2 και c3. Αυτά στην πρώτη στήλη του πίνακα των δεδομένων η οποία προσδιορίζει την κλάση έχουν τιμή 2 ή 3. Έπειτα, κρατάω μονάχα τα 5 πρώτα χαρακτηριστικά αυτών. Δεδομένου ότι η πρώτη στήλη είναι οι ετικέτες, το πρώτο χαρακτηριστικό βρίσκεται στην στήλη 1, σύμφωνα με την αρίθμηση του προγράμματος."
      ],
      "metadata": {
        "id": "eEeKtQWDDEvf"
      }
    },
    {
      "cell_type": "code",
      "source": [
        "# Κρατάω μονο τις στήλες με τιμή 2 ή 3\n",
        "dataA = data[np.logical_or(data[:, 0] == 2, data[:, 0] == 3)]\n",
        "labelsA = labels[np.logical_or(data[:, 0] == 2, data[:, 0] == 3)]\n",
        "\n",
        "dataA = dataA[:, 1:6] # Κρατάω μονάχα τα 5 πρώτα χαρακτηριστικά"
      ],
      "metadata": {
        "id": "5ySvJ-sKj-P9"
      },
      "execution_count": 2,
      "outputs": []
    },
    {
      "cell_type": "markdown",
      "source": [
        "**Να χωρίσετε το παραπάνω σε σύνολο εκπαίδευσης, επικύρωσης και δοκιμής (training, validation & test sets) με αναλογία 50%, 25% και 25% αντίστοιχα, με τυχαία επιλογή δεδομένων και ίδια αναλογία μεταξύ των κλάσεων σε κάθε σύνολο.**"
      ],
      "metadata": {
        "id": "Ovi9GtDHqu3H"
      }
    },
    {
      "cell_type": "markdown",
      "source": [
        "Προκείμενου να διατηρηθεί η αναλογία της εκφώνησης ως προς τα δεδομένα κάθε set, το size του validation set θα πρέπει να είναι το 33.33% του 75% του αρχικού train set. Η τιμή αυτή προκύπτει εύκολα με απλή αναλογία."
      ],
      "metadata": {
        "id": "4ccT3FDrDZHN"
      }
    },
    {
      "cell_type": "code",
      "source": [
        "from sklearn.model_selection import train_test_split\n",
        "\n",
        "# Διαχωρισμός σε training και test set\n",
        "training, testing, train_labels, test_labels = train_test_split(dataA, labelsA, test_size=0.25, stratify=labelsA)\n",
        "\n",
        "# Διαχωρισμός του training set σε training και validation set\n",
        "training, validation, train_labels, validation_labels = train_test_split(training, train_labels, test_size=0.33, stratify=train_labels)"
      ],
      "metadata": {
        "id": "WDN7lHpyoiqs"
      },
      "execution_count": 3,
      "outputs": []
    },
    {
      "cell_type": "markdown",
      "source": [
        "# **Ερώτημα Β**\n"
      ],
      "metadata": {
        "id": "BUEo3kXFq_22"
      }
    },
    {
      "cell_type": "markdown",
      "source": [
        "**Χρησιμοποιήστε γραμμικό SVM για να εκπαιδεύσετε ταξινομητή που να διαχωρίζει την κλάση c2 από τη c3. Χρησιμοποιήστε το validation set για να ρυθμίσετε την παράμετρο C (box constraint) κατάλληλα.**\n"
      ],
      "metadata": {
        "id": "2RH3mNlfrEnd"
      }
    },
    {
      "cell_type": "markdown",
      "source": [
        "Η παράμετρος C στον γραμμικό ταξινομητή SVM είναι κρίσιμης σημασίας, καθώς ρυθμίζει την ισορροπία μεταξύ της επίτευξης ενός μεγάλου περιθωρίου διαχωρισμού και της μείωσης των σφαλμάτων ταξινόμησης.\n",
        "\n",
        "Για χαμηλή τιμή του C, το μοντέλο τείνει να ευνοεί την μεγιστοποίηση του περιθωρίου, ακόμη και εάν αυτό σημαίνει την αύξηση των σφαλμάτων ταξινόμησης.\n",
        "\n",
        "Αντίθετα, η επιλογή μιας υψηλής τιμής του C οδηγεί σε μεγαλύτερη έμφαση στη σωστή ταξινόμηση των εκπαιδευτικών δειγμάτων, μειώνοντας το σφάλμα ταξινόμησης, αυξάνοντας, όμως, τον κίνδυνο υπερπροσαρμογής (overfitting).\n",
        "\n",
        "Η επιλογή της τιμής του C αποτελεί ένα σημαντικό βήμα. Η ρύθμιση της παραμέτρου C με το validation set βοηθάει στην εύρεση της ισορροπίας μεταξύ της ακρίβειας και της γενίκευσης.\n",
        "\n",
        "\n"
      ],
      "metadata": {
        "id": "evvKLNrx9om-"
      }
    },
    {
      "cell_type": "markdown",
      "source": [
        "Εφόσον η διαδικασία της εύρεσης της καλύτερης τιμής της παραμέτρου C πρόκειται να επαναληφθεί στα επόμενα ερωτήματα, ορίζω μία συνάρτηση με όνομα find_best_C που θα υλοποιεί αυτήν την διαδικασία.\n",
        "\n",
        "Για τον ορισμό του SVM καλώ την αντίστοιχη συνάρτηση της βιβλιοθήκης sklearn. O πυρήνας του μοντέλου είναι όρισμα της συνάρτησης προκειμένου να εξυπηρετούνται οι ανάγκες των επόμενων ερωτημάτων.\n",
        "\n",
        "Για να βρω την καλύτερη τιμή για το C χρησιμοποιώ την συνάρτηση GridSearch της βιβλιοθήκης. Μετά την αξιολόγηση όλων των πιθανών συνδυασμών παραμέτρων, η GridSearchCV επιλέγει τον συνδυασμό που παρέχει την καλύτερη απόδοση σύμφωνα με έναν συγκεκριμένο μετρικό αξιολόγησης (όπως η ακρίβεια). Σύμφωνα με το documentation, οι τιμές του C πρέπει να είναι σε μορφή λεξικού λιστών. Προκειμένου η ρύθμιση να γίνει με βάση το validation set, δίνω αυτό σαν όρισμα της συνάρτησης fit μαζί με τα αντίστοιχα labels.\n",
        "\n"
      ],
      "metadata": {
        "id": "hdACilhOKbFS"
      }
    },
    {
      "cell_type": "code",
      "source": [
        "import random\n",
        "from sklearn.svm import SVC\n",
        "from sklearn.metrics import accuracy_score\n",
        "from sklearn.model_selection import GridSearchCV\n",
        "\n",
        "def find_best_C(validation, validation_labels, kernels):\n",
        "    # Προσδιορισμός πιθανών τιμών για την παράμετρο C\n",
        "    # parameters = {'C': [0.1, 0.2, 0.3, 0.4,1, 10, 100, 1000]}\n",
        "    # parameters = {'C': [random.uniform(0.01, 100) for _ in range(200)]}\n",
        "\n",
        "    # a = [random.uniform(0.01, 100) for _ in range(100)]\n",
        "    a = [0.01, 0.1, 1, 10, 100, 1000]\n",
        "    # b = sorted(a)\n",
        "    # print(b)\n",
        "\n",
        "    '''\n",
        "    Με την συνάρτηση GridSearchCV βρίσκω την καλύτερη τιμή για την C δοκιμάζοντας όλες τις τιμές που έχω δώσει.\n",
        "    '''\n",
        "    # Ορισμός μοντέλου\n",
        "    svm_search = SVC(kernel=kernels)\n",
        "    parameters = {'C': a}\n",
        "    svm_search = GridSearchCV(svm_search, parameters)\n",
        "\n",
        "    # # Ρύθμιση με βάση το validation set\n",
        "    svm_search.fit(validation, validation_labels)\n",
        "    best_C = svm_search.best_params_\n",
        "\n",
        "    # # print(best_C['C'])\n",
        "    # # Υλοποίηση κώδικα που κάνει την αναζήτηση\n",
        "    # # Χρειάζεται να κάνω global τα training, train_labels\n",
        "    # print(\"Ξεκινάει η διαφορετική προσέγγιση.\")\n",
        "    # best_score = 0\n",
        "    # best_C1 = None\n",
        "    # for C in a:\n",
        "    #     svm = SVC(C=C, kernel=kernels)\n",
        "    #     svm.fit(training, train_labels)\n",
        "    #     score = accuracy_score(validation_labels, svm.predict(validation))\n",
        "    #     if score > best_score:\n",
        "    #         best_score = score\n",
        "    #         best_C1 = C\n",
        "    # print(best_C1)\n",
        "    # return best_C1\n",
        "\n",
        "    return best_C['C']"
      ],
      "metadata": {
        "id": "ZN87gFygrH-S"
      },
      "execution_count": 20,
      "outputs": []
    },
    {
      "cell_type": "markdown",
      "source": [
        "**Για την καλύτερη τιμή εφαρμόστε τον ταξινομητή που εκπαιδεύσατε στο test set. Τι σφάλμα ταξινόμησης πετύχατε?**"
      ],
      "metadata": {
        "id": "SudgZE8tK0BS"
      }
    },
    {
      "cell_type": "code",
      "source": [
        "best_C = find_best_C(validation, validation_labels, 'linear')\n",
        "\n",
        "# Εκπαίδευση ταξινομητή με best_C στο training set\n",
        "final_model = SVC(kernel='linear', C=best_C)\n",
        "final_model.fit(training, train_labels)\n",
        "\n",
        "# Αξιολόγηση στο test set\n",
        "predicted_labels = final_model.predict(testing)\n",
        "accuracy = accuracy_score(test_labels, predicted_labels)\n",
        "error_rate = 1 - accuracy\n",
        "\n",
        "print(\"Σφάλμα Ταξινόμησης:\", error_rate, 'με C =', str(best_C))"
      ],
      "metadata": {
        "id": "3qbyf3zfKySa",
        "colab": {
          "base_uri": "https://localhost:8080/"
        },
        "outputId": "53babef4-a08e-4e8f-9331-d619295cf78e"
      },
      "execution_count": 26,
      "outputs": [
        {
          "output_type": "stream",
          "name": "stdout",
          "text": [
            "Σφάλμα Ταξινόμησης: 0.30000000000000004 με C = 0.1\n"
          ]
        }
      ]
    },
    {
      "cell_type": "markdown",
      "source": [
        "# **Ερώτημα Γ**"
      ],
      "metadata": {
        "id": "1t8JXbtBHOkQ"
      }
    },
    {
      "cell_type": "markdown",
      "source": [
        "**Επαναλάβετε το προηγούμενο για 5 νέους τυχαιοποιημένους διαμερισμούς των δεδομένων, και υπολογίστε τη μέση τιμή και την τυπική απόκλιση του σφάλματος ταξινόμησης στο test set.**"
      ],
      "metadata": {
        "id": "yBPdhhwxa9mZ"
      }
    },
    {
      "cell_type": "markdown",
      "source": [
        "Η διαδικασία αυτή επαναλαμβάνεται για διαφορετικούς τύπους πυρήνα στο επόμενο ερώτημα, οπότε υλοποίησα μία συνάρτηση που να την εκτελεί.\n",
        "\n",
        "Η συνάρτηση αυτή αποτελείται από τον κώδικα των προηγούμενων ερωτημάτων με την διαφορά ότι η διαδικασία επαναλαμβάνεται για κάθε στοιχείο της λίστας των πυρήνων (kernels). Δημιουργώ ένα λεξικό με κλειδί τον τύπο κάθε πυρήνα και τιμές σε μορφή λίστας το σφάλμα κάθε επανάληψης. Συνολικά έχω 5 επαναλήψεις. Προκειμένου τα συμπεράσματά μου να έχουν βάση θα πρέπει για κάθε τυχαίο διαχωρισμό των δεδομένων να εφαρμόζονται όλοι οι πυρήνες του ταξινομητή και να υπολογίζεται ξεχωριστά η μέση τιμή σφάλματος και η απόκλιση. Επομένως, η επανάληψη που διατρέχει τους πίνακες είναι εμφωλευμένη εντός εκείνης που επαναλαμβάνει ολόκληρη την διαδικασία 5 φορές.\n",
        "\n",
        "Για τον υπολογισμό της μέσης τιμής και της απόκλισης, μετατρέπω την λίστα των τιμών για κάθε κελί σε πίνακα numpy και χρησιμοποιώ τις αντίστοιχες συναρτήσεις της βιβλιοθήκης.\n",
        "\n",
        "Τέλος, εκτυπώνω τα αποτελέσματα.\n",
        "\n",
        "\n"
      ],
      "metadata": {
        "id": "Z9Xz3G3JbI7C"
      }
    },
    {
      "cell_type": "code",
      "source": [
        "def repeat(dataA, labelsA, kernels):\n",
        "    best_C_values = {kernel : [] for kernel in kernels}\n",
        "\n",
        "    results = {kernel : [] for kernel in kernels}\n",
        "\n",
        "    for i in range(0, 5):\n",
        "        training, testing, train_labels, test_labels = train_test_split(dataA, labelsA, test_size=0.25, stratify=labelsA)\n",
        "        training, validation, train_labels, validation_labels = train_test_split(training, train_labels, test_size=0.33, stratify=train_labels)\n",
        "\n",
        "        for k in kernels:\n",
        "            # Για κάθε διαχωρισμό των δεδομένων & πυρήνα υπολογίζω το καλύτερο C\n",
        "            best_C = find_best_C(validation, validation_labels, k)\n",
        "            if k in best_C_values:\n",
        "                best_C_values[k].append(best_C)\n",
        "\n",
        "            # Εκπαίδευση του τελικού μοντέλου με την καλύτερη τιμή C\n",
        "            final_model = SVC(kernel=k, C=best_C)\n",
        "            final_model.fit(training, train_labels)\n",
        "\n",
        "            # Αξιολόγηση στο test set\n",
        "            predicted_labels = final_model.predict(testing)\n",
        "            accuracy = accuracy_score(test_labels, predicted_labels)\n",
        "            error = 1 - accuracy\n",
        "            results[k].append(error)\n",
        "\n",
        "    # print(\"Οι καλύτερες τιμές των C που βρέθηκαν είναι:\")\n",
        "    # for key, value in best_C_values.items():\n",
        "    #     if value:\n",
        "    #         print(\"Kernel: \", key)\n",
        "    #         for c in value:\n",
        "    #             print(\"  - C value: \", c)\n",
        "    #     print()\n",
        "\n",
        "    print(\" KERNEL\\t\\tΜΕΣΗ ΤΙΜΗ ΣΦΑΛΜΑΤΟΣ \\tΑΠΟΚΛΙΣΗ\")\n",
        "    print(\"-----------------------------------------------------\")\n",
        "    for key, values in results.items():\n",
        "        mean = np.mean(values)\n",
        "        standard_deviation = np.std(values)\n",
        "\n",
        "        formatted_text = \"{:^8}\".format(key)\n",
        "        print(formatted_text , \"\\t    \", \"{:.5f}\".format(mean), \"\\t\\t\", \"{:.5f}\".format(standard_deviation))"
      ],
      "metadata": {
        "id": "FKFbuRosHTTl"
      },
      "execution_count": 34,
      "outputs": []
    },
    {
      "cell_type": "code",
      "source": [
        "repeat(dataA, labelsA, ['linear'])"
      ],
      "metadata": {
        "colab": {
          "base_uri": "https://localhost:8080/"
        },
        "id": "78LlVn_QZeqK",
        "outputId": "48e62dda-d4ff-4b4a-ae9e-5249fa091f90"
      },
      "execution_count": 35,
      "outputs": [
        {
          "output_type": "stream",
          "name": "stdout",
          "text": [
            " KERNEL\t\tΜΕΣΗ ΤΙΜΗ ΣΦΑΛΜΑΤΟΣ \tΑΠΟΚΛΙΣΗ\n",
            "-----------------------------------------------------\n",
            " linear  \t     0.14667 \t\t 0.06864\n"
          ]
        }
      ]
    },
    {
      "cell_type": "markdown",
      "source": [
        "# **Ερώτημα Δ**"
      ],
      "metadata": {
        "id": "PPOZ4uQcUjPO"
      }
    },
    {
      "cell_type": "markdown",
      "source": [
        "**Επαναλάβετε το Γ για μη-γραμμικό SVM δοκιμάζοντας διάφορες συναρτήσεις πυρήνα (RBF, polynomial κλπ). Τι σφάλμα πετύχατε? Ποιος είναι ο καλύτερος ταξινομητής για το πρόβλημα? Σχολιάστε.**"
      ],
      "metadata": {
        "id": "5O7mkIFtbBhE"
      }
    },
    {
      "cell_type": "code",
      "source": [
        "repeat(dataA, labelsA, ['linear', 'poly', 'rbf', 'sigmoid'])"
      ],
      "metadata": {
        "id": "uFh0nZzaIE0Z",
        "colab": {
          "base_uri": "https://localhost:8080/"
        },
        "outputId": "7dbca9f7-816f-45a2-fe19-f9e5d883ba27"
      },
      "execution_count": 38,
      "outputs": [
        {
          "output_type": "stream",
          "name": "stdout",
          "text": [
            " KERNEL\t\tΜΕΣΗ ΤΙΜΗ ΣΦΑΛΜΑΤΟΣ \tΑΠΟΚΛΙΣΗ\n",
            "-----------------------------------------------------\n",
            " linear  \t     0.15333 \t\t 0.05812\n",
            "  poly   \t     0.13333 \t\t 0.04714\n",
            "  rbf    \t     0.14667 \t\t 0.03399\n",
            "sigmoid  \t     0.38000 \t\t 0.04000\n"
          ]
        }
      ]
    },
    {
      "cell_type": "markdown",
      "source": [
        "Η απόφαση του καλύτερου ταξινομητή προκύπτει από τους δύο προαναφερόμενους δείκτες: την μέση τιμή σφάλματος και την απόκλιση. Η μέση τιμή δείχνει το πόσο καλά ταξινομούνται τα δεδομένα , άρα όσο χαμηλότερη τόσο το καλύτερο. Η απόκλιση προσδιορίζει την σταθερότητα του ταξινομητή στις διάφορες εκτελέσεις. Μικρή απόκλιση σημαίνει ότι ο ταξινομητής έχει συνεπή αποτελέσματα ανεξάρτητα από το δείγμα των δεδομένων που χρησιμοποιεί.\n",
        "\n",
        "Με βάση τα παραπάνω αποτελέσματα, ο πολυωνυμικός ταξινομητής έχει την χαμηλότερη μέση τιμή σφάλματος, δηλαδή κατά μέσο όρο ταξινομεί καλύτερα τα δεδομένα, και μικρή απόκλιση, δηλαδή παρουσιάζει συνεπή αποτελέσματα. Οι υπόλοιποι πυρήνες έχουν υψηλότερη μέση τιμή σφάλματος, δηλαδή παρουσιάζουν περισσότερα λάθη στην ταξινόμηση. Συνεπώς, δεδομένου της ακρίβειας και της συνέπειας ο πολυωνυμικός ταξινομητής είναι καλύτερος για τα συγκεκριμένα δεδομένα. Από αυτό συμπεραίνω ότι η δομή των δεδομένων είναι πολύπλοκη"
      ],
      "metadata": {
        "id": "fBAMc2k1JCWt"
      }
    },
    {
      "cell_type": "markdown",
      "source": [
        "# **Ερώτημα Ε**"
      ],
      "metadata": {
        "id": "rbzIPM7hWJuv"
      }
    },
    {
      "cell_type": "markdown",
      "source": [
        "**Χρησιμοποιήστε γραμμικό SVM για να εκπαιδεύσετε ταξινομητές για το πλήρες πρόβλημα των 3 κλάσεων, με την προσέγγιση ένας-εναντίον-ενός (one-vs-one) και καταμέτρηση ψήφων. Μπορείτε να αξιοποιήσετε τις σχετικές αυτοματοποιημένες λειτουργίες που έχουν κάποιες βιβλιοθήκες SVM.**"
      ],
      "metadata": {
        "id": "uR16nttXZFso"
      }
    },
    {
      "cell_type": "markdown",
      "source": [
        "Η προσέγγιση one vs one είναι μία τεχνική που χρησιμοποιείται σε προβλήματα ταξινόμησης πολλών κλάσεων. Για Ν>2 κλάσεις δημιουργούνται (Ν*(Ν-1))/2 ταξινομητές. Έκαστος εκπαιδεύεται σε δεδομένα δύο κλάσεω, αγνοώντας τα δεδομένα από τις υπόλοιπες. Όταν πρόκειται να γίνει πρόβλεψη για νέο δείγμα, αυτό παρουσιάζεται σε όλους τους ταξινομητές. Κάθε ταξινομητής ψηφίζει για μία κλάση. Η τελική πρόβλεψη είναι η κλάση με τις περισσότερες ψήφους.\n",
        "\n",
        "Η υλοποίηση της τεχνικής αυτής γίνεται με την βοήθεια της έτοιμης συνάρτησης OneVsOneClassifier από την βιβλιοθήκη sklearn.\n"
      ],
      "metadata": {
        "id": "zMrKT4j9O-J9"
      }
    },
    {
      "cell_type": "markdown",
      "source": [
        "**Θέτοντας το C=1 και ακολουθώντας πρωτόκολλο 5-fold cross validation, να υπολογίστε τη μέση τιμή του σφάλματος ταξινόμησης χρησιμοποιώντας τα 5 πρώτα χαρακτηριστικά όπως και παραπάνω.**"
      ],
      "metadata": {
        "id": "NnNGyiqQZSsV"
      }
    },
    {
      "cell_type": "markdown",
      "source": [
        "Το πρωτόκολλο 5-fold cross validation είναι μία μέθοδο αξιολόγησης της απόδοσης ενός μοντέλου μηχανικής μάθησης με βάση το πόσο καλά γενικεύει σε νέα δεδομένα.\n",
        "\n"
      ],
      "metadata": {
        "id": "ltzNNISRI_D1"
      }
    },
    {
      "cell_type": "code",
      "source": [
        "from sklearn.multiclass import OneVsOneClassifier\n",
        "from sklearn.model_selection import cross_val_score, cross_val_predict\n",
        "from sklearn.metrics import confusion_matrix\n",
        "\n",
        "import matplotlib.pyplot as plt\n",
        "from sklearn.metrics import ConfusionMatrixDisplay\n",
        "\n",
        "\n",
        "def oneVSone(data, labels):\n",
        "    svm_model = OneVsOneClassifier(SVC(kernel='linear', C=1))\n",
        "\n",
        "    accuracy = cross_val_score(svm_model, data, labels, cv=5, scoring='accuracy')\n",
        "\n",
        "    error = 1 - accuracy.mean()\n",
        "    print('Mean error: ', error*100, \"%\")\n",
        "\n",
        "    # Πίνακας σύγχυσης\n",
        "    predicted_labels = cross_val_predict(svm_model, data, labels, cv=5)\n",
        "    cm = confusion_matrix(labels, predicted_labels)\n",
        "\n",
        "    ConfusionMatrixDisplay.from_predictions(labels, predicted_labels)\n",
        "    plt.title('Confusion Matrix')\n",
        "    plt.show()"
      ],
      "metadata": {
        "id": "2YjO12TsWNZU"
      },
      "execution_count": 9,
      "outputs": []
    },
    {
      "cell_type": "markdown",
      "source": [
        "Στον πίνακα σύγχυσης η κύρια διαγώνιος δείχνει τις περιπτώσεις όπου οι πραγματικές κλάσεις έχουν προβλεφθεί σωστά, ενώ οι εκτός διαγωνίου τιμές αντιπροσωπεύουν λανθασμένες προβλέψεις."
      ],
      "metadata": {
        "id": "_WJtksOWZ8Ob"
      }
    },
    {
      "cell_type": "code",
      "source": [
        "oneVSone(data[:, 1:6], labels) # Δίνω μόνο τα 5 πρώτα χαρακτηριστικά"
      ],
      "metadata": {
        "id": "LnUninF3NtXd",
        "colab": {
          "base_uri": "https://localhost:8080/",
          "height": 489
        },
        "outputId": "2cc441dc-f0d9-4adb-827d-83abbe08edcf"
      },
      "execution_count": 10,
      "outputs": [
        {
          "output_type": "stream",
          "name": "stdout",
          "text": [
            "Mean error:  18.523809523809533 %\n"
          ]
        },
        {
          "output_type": "display_data",
          "data": {
            "text/plain": [
              "<Figure size 640x480 with 2 Axes>"
            ],
            "image/png": "[encoded data removed]"
          },
          "metadata": {}
        }
      ]
    },
    {
      "cell_type": "markdown",
      "source": [
        "Η κλάση 1 έχει προβλεφθεί σωστά 51 φορές και λανθασμένα 1 φορά ως κλάση 2 και 7 φορές ως κλάση 3.\n",
        "\n",
        "Η κλάση 2 έχει προβλεφθεί σωστά 58 φορές και λανθασμένα 3 φορές ως κλάση 1 και 10 φορές ως κλάση 3.\n",
        "\n",
        "Η κλάση 3 έχει προβλεφθεί σωστά 36 φορές και λανθασμένα 3 φορές ως κλάση 1 και 9 φορές ως κλάση 2.\n"
      ],
      "metadata": {
        "id": "Ryks5XqZZ9dK"
      }
    },
    {
      "cell_type": "code",
      "source": [
        "oneVSone(data, labels)"
      ],
      "metadata": {
        "id": "JsNpVWjRZ2W-",
        "colab": {
          "base_uri": "https://localhost:8080/",
          "height": 489
        },
        "outputId": "46156965-dab8-4273-f536-e921312ebfb8"
      },
      "execution_count": 11,
      "outputs": [
        {
          "output_type": "stream",
          "name": "stdout",
          "text": [
            "Mean error:  1.1111111111111072 %\n"
          ]
        },
        {
          "output_type": "display_data",
          "data": {
            "text/plain": [
              "<Figure size 640x480 with 2 Axes>"
            ],
            "image/png": "[encoded data removed]"
          },
          "metadata": {}
        }
      ]
    },
    {
      "cell_type": "markdown",
      "source": [
        "Η κλάση 1 έχει προβλεφθεί σωστά 59 φορές και καμία φορά λανθασμένη ως κλάση 2 ή 3.\n",
        "\n",
        "Η κλάση 2 έχει προβλεφθεί σωστά 69 φορές και λανθασμένα 1 φορές ως κλάση 1 και 1 φορά ως κλάση 3.\n",
        "\n",
        "Η κλάση 3 έχει προβλεφθεί σωστά 48 φορές και λανθασμένα καμία φορά λανθασμένη ως κλάση 1 ή 2.\n"
      ],
      "metadata": {
        "id": "VkCASOFYaCc8"
      }
    },
    {
      "cell_type": "markdown",
      "source": [
        "Συγκρίνοντας τους δύο πίνακες, φαίνεται ότι οι κλάσεις 2 και 3 στον πρώτο πίνακα έχουν τον υψηλότερο αριθμό σωστών προβλέψεων και τον χαμηλότερο αριθμό λανθασμένων προβλέψεων σε σχέση με την άλλη κλάση. Στον δεύτερο πίνακα, οι κλάσεις 2 και 3 φαίνεται να έχουν σχετικά υψηλό αριθμό λανθασμένων προβλέψεων η μία σε σχέση με την άλλη. Αυτό δείχνει ότι οι κλάσεις 2 και 3 είναι πιο δύσκολο να διαχωριστούν χρησιμοποιώντας μόνο τα 5 χαρακτηριστικά, σε σύγκριση με την χρήση όλων των διαθέσιμων χαρακτηριστικών."
      ],
      "metadata": {
        "id": "-sJkR5G2aD0M"
      }
    }
  ]
}